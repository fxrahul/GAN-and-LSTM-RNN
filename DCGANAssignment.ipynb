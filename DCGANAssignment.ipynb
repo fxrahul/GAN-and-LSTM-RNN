{
  "nbformat": 4,
  "nbformat_minor": 0,
  "metadata": {
    "colab": {
      "name": "DCGAN.ipynb",
      "provenance": [],
      "collapsed_sections": []
    },
    "kernelspec": {
      "name": "python3",
      "display_name": "Python 3"
    },
    "accelerator": "GPU"
  },
  "cells": [
    {
      "cell_type": "code",
      "metadata": {
        "id": "ucCLbO6PffDi",
        "colab_type": "code",
        "colab": {}
      },
      "source": [
        "import tensorflow as tf\n",
        "from keras.datasets import mnist\n",
        "import time\n",
        "import matplotlib.pyplot as plt\n",
        "from IPython import display\n",
        "import os\n",
        "from IPython.display import Image\n",
        "import numpy as np"
      ],
      "execution_count": 0,
      "outputs": []
    },
    {
      "cell_type": "code",
      "metadata": {
        "id": "2mn2NzlPfyXR",
        "colab_type": "code",
        "colab": {}
      },
      "source": [
        "(xtrain, ytrain) , (xtest,ytest) = mnist.load_data()"
      ],
      "execution_count": 0,
      "outputs": []
    },
    {
      "cell_type": "code",
      "metadata": {
        "id": "PZ-lVHNsf_WZ",
        "colab_type": "code",
        "outputId": "d51dac79-2049-4813-be60-9107fd01c862",
        "colab": {
          "base_uri": "https://localhost:8080/",
          "height": 52
        }
      },
      "source": [
        "print(xtrain.shape)\n",
        "print(xtest.shape)"
      ],
      "execution_count": 25,
      "outputs": [
        {
          "output_type": "stream",
          "text": [
            "(60000, 28, 28)\n",
            "(10000, 28, 28)\n"
          ],
          "name": "stdout"
        }
      ]
    },
    {
      "cell_type": "code",
      "metadata": {
        "id": "ghpMqCN7gZFq",
        "colab_type": "code",
        "colab": {}
      },
      "source": [
        "xtrain = xtrain.reshape(xtrain.shape[0], 28, 28, 1).astype('float32')\n",
        "xtrain = (xtrain - 127.5) / 127.5"
      ],
      "execution_count": 0,
      "outputs": []
    },
    {
      "cell_type": "code",
      "metadata": {
        "id": "-2YYz7On5lZa",
        "colab_type": "code",
        "outputId": "b8d901e9-fddf-4d9f-b0c6-741e39f2bc3a",
        "colab": {
          "base_uri": "https://localhost:8080/",
          "height": 35
        }
      },
      "source": [
        "print(xtrain.shape)"
      ],
      "execution_count": 27,
      "outputs": [
        {
          "output_type": "stream",
          "text": [
            "(60000, 28, 28, 1)\n"
          ],
          "name": "stdout"
        }
      ]
    },
    {
      "cell_type": "code",
      "metadata": {
        "id": "VoVS8bg9iAgI",
        "colab_type": "code",
        "colab": {}
      },
      "source": [
        "batchSize = 256\n",
        "parameterInsideAdam = 1e-4"
      ],
      "execution_count": 0,
      "outputs": []
    },
    {
      "cell_type": "code",
      "metadata": {
        "id": "iZOoolD4giSj",
        "colab_type": "code",
        "colab": {}
      },
      "source": [
        "trainSet = tf.data.Dataset.from_tensor_slices(xtrain)\n",
        "trainSet = trainSet.shuffle(xtrain.shape[0])\n",
        "trainSet = trainSet.batch(batchSize)"
      ],
      "execution_count": 0,
      "outputs": []
    },
    {
      "cell_type": "code",
      "metadata": {
        "id": "SV11EimjgC1h",
        "colab_type": "code",
        "colab": {}
      },
      "source": [
        "def ganGeneartor():\n",
        "    model = tf.keras.Sequential()\n",
        "    model.add(tf.keras.layers.Dense(7*7*256, use_bias=False, input_shape=(100,)))\n",
        "    model.add(tf.keras.layers.BatchNormalization())\n",
        "    model.add(tf.keras.layers.LeakyReLU())\n",
        "\n",
        "    model.add(tf.keras.layers.Reshape((7, 7, 256)))\n",
        "    assert model.output_shape == (None, 7, 7, 256) # Note: None is the batch size\n",
        "\n",
        "    model.add(tf.keras.layers.Conv2DTranspose(128, (5, 5), strides=(1, 1), padding='same', use_bias=False))\n",
        "    assert model.output_shape == (None, 7, 7, 128)\n",
        "    model.add(tf.keras.layers.BatchNormalization())\n",
        "    model.add(tf.keras.layers.LeakyReLU())\n",
        "\n",
        "    model.add(tf.keras.layers.Conv2DTranspose(64, (5, 5), strides=(2, 2), padding='same', use_bias=False))\n",
        "    assert model.output_shape == (None, 14, 14, 64)\n",
        "    model.add(tf.keras.layers.BatchNormalization())\n",
        "    model.add(tf.keras.layers.LeakyReLU())\n",
        "\n",
        "    model.add(tf.keras.layers.Conv2DTranspose(1, (5, 5), strides=(2, 2), padding='same', use_bias=False, activation='tanh'))\n",
        "    assert model.output_shape == (None, 28, 28, 1)\n",
        "\n",
        "    return model\n"
      ],
      "execution_count": 0,
      "outputs": []
    },
    {
      "cell_type": "code",
      "metadata": {
        "id": "2YuQpUHHtGQv",
        "colab_type": "code",
        "colab": {}
      },
      "source": [
        "generator = ganGeneartor()"
      ],
      "execution_count": 0,
      "outputs": []
    },
    {
      "cell_type": "code",
      "metadata": {
        "id": "VsEcPNHCi_wt",
        "colab_type": "code",
        "colab": {}
      },
      "source": [
        "def ganDiscriminator():\n",
        "    model = tf.keras.Sequential()\n",
        "    model.add(tf.keras.layers.Conv2D(64, (5, 5), strides=(2, 2), padding='same',\n",
        "                                     input_shape=[28, 28, 1]))\n",
        "    model.add(tf.keras.layers.LeakyReLU())\n",
        "    model.add(tf.keras.layers.Dropout(0.3))\n",
        "\n",
        "    model.add(tf.keras.layers.Conv2D(128, (5, 5), strides=(2, 2), padding='same'))\n",
        "    model.add(tf.keras.layers.LeakyReLU())\n",
        "    model.add(tf.keras.layers.Dropout(0.3))\n",
        "\n",
        "    model.add(tf.keras.layers.Flatten())\n",
        "    model.add(tf.keras.layers.Dense(1))\n",
        "\n",
        "    return model"
      ],
      "execution_count": 0,
      "outputs": []
    },
    {
      "cell_type": "code",
      "metadata": {
        "id": "_Cdz1n5XtJUy",
        "colab_type": "code",
        "colab": {}
      },
      "source": [
        "discriminator = ganDiscriminator()"
      ],
      "execution_count": 0,
      "outputs": []
    },
    {
      "cell_type": "code",
      "metadata": {
        "id": "AfvXe1mVkJGn",
        "colab_type": "code",
        "colab": {}
      },
      "source": [
        "def geneartorLoss(generatedOutput):\n",
        "  # print(\"generator type: \",type(generatedOutput))\n",
        "  generatorLoss = tf.keras.losses.BinaryCrossentropy(from_logits=True)(tf.ones_like(generatedOutput), generatedOutput)\n",
        "  return generatorLoss"
      ],
      "execution_count": 0,
      "outputs": []
    },
    {
      "cell_type": "code",
      "metadata": {
        "id": "f8o_G-pikud4",
        "colab_type": "code",
        "colab": {}
      },
      "source": [
        "def discriminatorLoss(generatedOutput, realOutput):\n",
        "  # print(\"generator type: \",type(generatedOutput))\n",
        "  # print(\"discriminator type: \",type(generatedOutput))\n",
        "  generatedOutputLoss = tf.keras.losses.BinaryCrossentropy(from_logits=True)(tf.zeros_like(generatedOutput), generatedOutput)\n",
        "  realOutputLoss = tf.keras.losses.BinaryCrossentropy(from_logits=True)(tf.ones_like(realOutput), realOutput)\n",
        "  return (generatedOutputLoss + realOutputLoss)"
      ],
      "execution_count": 0,
      "outputs": []
    },
    {
      "cell_type": "code",
      "metadata": {
        "id": "Ox8W5JI7nLkK",
        "colab_type": "code",
        "colab": {}
      },
      "source": [
        "noise_dim = 100\n",
        "num_examples_to_generate = 16\n",
        "\n",
        "seed = tf.random.normal([num_examples_to_generate, noise_dim])\n",
        "generator = ganGeneartor()\n",
        "discriminator = ganDiscriminator()\n"
      ],
      "execution_count": 0,
      "outputs": []
    },
    {
      "cell_type": "code",
      "metadata": {
        "id": "tX6oGEx0zli6",
        "colab_type": "code",
        "colab": {}
      },
      "source": [
        "generator_optimizer = tf.keras.optimizers.Adam(1e-4)\n",
        "discriminator_optimizer = tf.keras.optimizers.Adam(1e-4)"
      ],
      "execution_count": 0,
      "outputs": []
    },
    {
      "cell_type": "code",
      "metadata": {
        "id": "_LpjfAdGnRW5",
        "colab_type": "code",
        "colab": {}
      },
      "source": [
        "# This annotation causes the function to be \"compiled\".\n",
        "@tf.function\n",
        "def trainInBatch(imageBatch):\n",
        "  noise = tf.random.normal([batchSize, noise_dim])\n",
        "\n",
        "  with tf.GradientTape() as generatorTape, tf.GradientTape() as discriminatorTape:\n",
        "    geneartedImage = generator(noise,training = True)\n",
        "\n",
        "    realOutput = discriminator(imageBatch,training =True)\n",
        "    # print(\"realOutput:\",realOutput)\n",
        "    fakingOutput = discriminator(geneartedImage, training = True)\n",
        "    # print(\"fakeOutput:\",realOutput)\n",
        "    generator_loss = geneartorLoss(fakingOutput)\n",
        "    discriminator_loss = discriminatorLoss(fakingOutput, realOutput)\n",
        "  \n",
        "  generator_optimizer.apply_gradients(zip(generatorTape.gradient(generator_loss,generator.trainable_variables) , generator.trainable_variables )) #For Backpropagation\n",
        "  discriminator_optimizer.apply_gradients(zip(discriminatorTape.gradient(discriminator_loss,discriminator.trainable_variables) , discriminator.trainable_variables )) #For Backpropagation\n",
        "  "
      ],
      "execution_count": 0,
      "outputs": []
    },
    {
      "cell_type": "code",
      "metadata": {
        "id": "vWh33Z_ispi9",
        "colab_type": "code",
        "colab": {}
      },
      "source": [
        "def generateAndSave(model, epoch, test_input):\n",
        "  predictions = model(test_input,training = False)\n",
        "  # generatedImage = np.asarray(predictions[0]*127.5 + 127.5)\n",
        "  # print(generatedImage.shape)\n",
        "\n",
        "  fig = plt.figure(figsize=(4,4))\n",
        "\n",
        "  for i in range(predictions.shape[0]):\n",
        "      plt.subplot(4, 4, i+1)\n",
        "      generatedImage = tf.keras.preprocessing.image.array_to_img(predictions[i]*127.5 + 127.5, data_format=None, scale=True, dtype='float32')\n",
        "      plt.imshow(np.asarray(generatedImage), cmap='gray')\n",
        "      plt.axis('off')\n",
        "\n",
        "  plt.savefig(\"image_at_epoch_\"+ str(epoch)+\".png\")\n",
        "  plt.show()"
      ],
      "execution_count": 0,
      "outputs": []
    },
    {
      "cell_type": "code",
      "metadata": {
        "id": "d9lunE-Alf-h",
        "colab_type": "code",
        "colab": {}
      },
      "source": [
        "def train(data, epochs):\n",
        "\n",
        "  # originalImage = tf.keras.preprocessing.image.array_to_img(xtrain[0], data_format=None, scale=True, dtype='float32')\n",
        "  # plt.imshow(np.asarray(originalImage),cmap=\"gray\")\n",
        "  # plt.show()\n",
        "  # originalImage.save(\"originalImage.png\",\"PNG\")\n",
        "  # originalImageLocationString = tf.io.read_file(\"originalImage.png\")\n",
        "  # originalImage = tf.io.decode_png(originalImageLocationString)\n",
        "  # # print(type(originalImage))\n",
        "\n",
        "  for epoch in range(epochs):\n",
        "    startTime  = time.time()\n",
        "\n",
        "    for imageBatch in data:\n",
        "\n",
        "      trainInBatch(imageBatch)\n",
        "    # seed = tf.random.normal([num_examples_to_generate, noise_dim])\n",
        "\n",
        "    # predictions = generator(seed,training = False)\n",
        "\n",
        "    # generatedImage = tf.keras.preprocessing.image.array_to_img(predictions[0]*127.5 + 127.5, data_format=None, scale=True, dtype='float32')\n",
        "    # plt.imshow(np.asarray(generatedImage),cmap=\"gray\")\n",
        "    # plt.show()\n",
        "    # generatedImageLocation = \"Epoch-\"+str(epoch+1)+\".png\"\n",
        "    # generatedImage.save(generatedImageLocation)\n",
        "    \n",
        "    # generatedImageLocationString = tf.io.read_file(generatedImageLocation)\n",
        "    # generatedImage = tf.io.decode_png(generatedImageLocationString)\n",
        "    # # print(type(generatedImage))\n",
        "\n",
        "    # ssim = tf.image.ssim(originalImage, generatedImage, max_val=1.0, filter_size=4,\n",
        "    #                       filter_sigma=1.5, k1=0.01, k2=0.03)\n",
        "    \n",
        "    \n",
        "    \n",
        "    # print(\"Epoch : \", epoch+1,\",\", \" training time : \",time.time()-startTime, \",\", \"SSIM : \",ssim)\n",
        "    # plt.imshow(xtrain[0].reshape(28,28),  cmap=\"gray\")\n",
        "    \n",
        "    # os.remove(generatedImageLocation)\n",
        "\n",
        "    # generated_image = generator(seed, training = False)\n",
        "    # print(\"Discriminator Loss: \",discriminator(generated_image))\n",
        "    # loss = discriminator(generated_image)\n",
        "    print(\"Epoch : \", epoch+1,\",\", \" training time : \",time.time()-startTime)\n",
        "    # loss = \"discriminator loss for 16 example are: \" + str(tf.print(loss[0]))\n",
        "    # print(loss)\n",
        "  print(\"---------------------Generated Image-----------------------------------------\")\n",
        "  generateAndSave(generator,epochs,seed)\n",
        "  print(\"---------------------Original Image-----------------------------------------\")\n",
        "  fig = plt.figure(figsize=(4,4))\n",
        "\n",
        "  for i in range(16):\n",
        "      plt.subplot(4, 4, i+1)\n",
        "      originalImage = tf.keras.preprocessing.image.array_to_img(xtrain[i]*127.5 + 127.5, data_format=None, scale=True, dtype='float32')\n",
        "      plt.imshow(np.asarray(originalImage), cmap='gray')\n",
        "      plt.axis('off')\n",
        "     \n",
        "  plt.savefig(\"originalImage.png\")\n",
        "  plt.show()\n",
        "\n",
        "  # generated_image = generator(seed, training = False)\n",
        "  # print(\"Final Discriminator Loss for 16 Generated Image: \",discriminator(generated_image))\n",
        "  \n",
        "  \n"
      ],
      "execution_count": 0,
      "outputs": []
    },
    {
      "cell_type": "code",
      "metadata": {
        "id": "c8qqbLWAlY6W",
        "colab_type": "code",
        "colab": {
          "base_uri": "https://localhost:8080/",
          "height": 1000
        },
        "outputId": "2c00c514-5b29-4605-f427-f184b9f07ed0"
      },
      "source": [
        "epochs = 100\n",
        "train(trainSet,epochs)"
      ],
      "execution_count": 41,
      "outputs": [
        {
          "output_type": "stream",
          "text": [
            "Epoch :  1 ,  training time :  12.238376140594482\n",
            "Epoch :  2 ,  training time :  10.400644063949585\n",
            "Epoch :  3 ,  training time :  10.52396821975708\n",
            "Epoch :  4 ,  training time :  10.662012100219727\n",
            "Epoch :  5 ,  training time :  10.79157042503357\n",
            "Epoch :  6 ,  training time :  10.706889867782593\n",
            "Epoch :  7 ,  training time :  10.615949630737305\n",
            "Epoch :  8 ,  training time :  10.607760667800903\n",
            "Epoch :  9 ,  training time :  10.539034843444824\n",
            "Epoch :  10 ,  training time :  10.592292070388794\n",
            "Epoch :  11 ,  training time :  10.573237419128418\n",
            "Epoch :  12 ,  training time :  10.641231536865234\n",
            "Epoch :  13 ,  training time :  10.611907005310059\n",
            "Epoch :  14 ,  training time :  10.605278015136719\n",
            "Epoch :  15 ,  training time :  10.592592716217041\n",
            "Epoch :  16 ,  training time :  10.622884273529053\n",
            "Epoch :  17 ,  training time :  10.575559616088867\n",
            "Epoch :  18 ,  training time :  10.580503463745117\n",
            "Epoch :  19 ,  training time :  10.56233549118042\n",
            "Epoch :  20 ,  training time :  10.577748775482178\n",
            "Epoch :  21 ,  training time :  10.587005853652954\n",
            "Epoch :  22 ,  training time :  10.571271419525146\n",
            "Epoch :  23 ,  training time :  10.614445447921753\n",
            "Epoch :  24 ,  training time :  10.577542066574097\n",
            "Epoch :  25 ,  training time :  10.586507320404053\n",
            "Epoch :  26 ,  training time :  10.632090330123901\n",
            "Epoch :  27 ,  training time :  10.620543718338013\n",
            "Epoch :  28 ,  training time :  10.579862594604492\n",
            "Epoch :  29 ,  training time :  10.593589067459106\n",
            "Epoch :  30 ,  training time :  10.595964670181274\n",
            "Epoch :  31 ,  training time :  10.613166332244873\n",
            "Epoch :  32 ,  training time :  10.59261441230774\n",
            "Epoch :  33 ,  training time :  10.603117942810059\n",
            "Epoch :  34 ,  training time :  10.590378284454346\n",
            "Epoch :  35 ,  training time :  10.617982864379883\n",
            "Epoch :  36 ,  training time :  10.649446964263916\n",
            "Epoch :  37 ,  training time :  10.636476039886475\n",
            "Epoch :  38 ,  training time :  10.643375158309937\n",
            "Epoch :  39 ,  training time :  10.606611251831055\n",
            "Epoch :  40 ,  training time :  10.59779667854309\n",
            "Epoch :  41 ,  training time :  10.613938093185425\n",
            "Epoch :  42 ,  training time :  10.605061054229736\n",
            "Epoch :  43 ,  training time :  10.608515977859497\n",
            "Epoch :  44 ,  training time :  10.607630252838135\n",
            "Epoch :  45 ,  training time :  10.60928988456726\n",
            "Epoch :  46 ,  training time :  10.606380701065063\n",
            "Epoch :  47 ,  training time :  10.606993436813354\n",
            "Epoch :  48 ,  training time :  10.615205764770508\n",
            "Epoch :  49 ,  training time :  10.60983395576477\n",
            "Epoch :  50 ,  training time :  10.594130277633667\n",
            "Epoch :  51 ,  training time :  10.61570405960083\n",
            "Epoch :  52 ,  training time :  10.615573406219482\n",
            "Epoch :  53 ,  training time :  10.609174728393555\n",
            "Epoch :  54 ,  training time :  10.595293283462524\n",
            "Epoch :  55 ,  training time :  10.619438409805298\n",
            "Epoch :  56 ,  training time :  10.605151653289795\n",
            "Epoch :  57 ,  training time :  10.60616397857666\n",
            "Epoch :  58 ,  training time :  10.611514806747437\n",
            "Epoch :  59 ,  training time :  10.641344785690308\n",
            "Epoch :  60 ,  training time :  10.609029054641724\n",
            "Epoch :  61 ,  training time :  10.615436553955078\n",
            "Epoch :  62 ,  training time :  10.592969179153442\n",
            "Epoch :  63 ,  training time :  10.600862979888916\n",
            "Epoch :  64 ,  training time :  10.59118366241455\n",
            "Epoch :  65 ,  training time :  10.59646463394165\n",
            "Epoch :  66 ,  training time :  10.591911554336548\n",
            "Epoch :  67 ,  training time :  10.590144157409668\n",
            "Epoch :  68 ,  training time :  10.600853204727173\n",
            "Epoch :  69 ,  training time :  10.593989372253418\n",
            "Epoch :  70 ,  training time :  10.605114459991455\n",
            "Epoch :  71 ,  training time :  10.596534490585327\n",
            "Epoch :  72 ,  training time :  10.596484899520874\n",
            "Epoch :  73 ,  training time :  10.59665060043335\n",
            "Epoch :  74 ,  training time :  10.601139783859253\n",
            "Epoch :  75 ,  training time :  10.60957407951355\n",
            "Epoch :  76 ,  training time :  10.611330270767212\n",
            "Epoch :  77 ,  training time :  10.596938371658325\n",
            "Epoch :  78 ,  training time :  10.611874341964722\n",
            "Epoch :  79 ,  training time :  10.612704038619995\n",
            "Epoch :  80 ,  training time :  10.616907835006714\n",
            "Epoch :  81 ,  training time :  10.645366668701172\n",
            "Epoch :  82 ,  training time :  10.615021467208862\n",
            "Epoch :  83 ,  training time :  10.601182222366333\n",
            "Epoch :  84 ,  training time :  10.598768711090088\n",
            "Epoch :  85 ,  training time :  10.603297472000122\n",
            "Epoch :  86 ,  training time :  10.611170530319214\n",
            "Epoch :  87 ,  training time :  10.618456840515137\n",
            "Epoch :  88 ,  training time :  10.603683710098267\n",
            "Epoch :  89 ,  training time :  10.609476804733276\n",
            "Epoch :  90 ,  training time :  10.597153902053833\n",
            "Epoch :  91 ,  training time :  10.602348566055298\n",
            "Epoch :  92 ,  training time :  10.627092838287354\n",
            "Epoch :  93 ,  training time :  10.606618881225586\n",
            "Epoch :  94 ,  training time :  10.648581504821777\n",
            "Epoch :  95 ,  training time :  10.608660697937012\n",
            "Epoch :  96 ,  training time :  10.602861166000366\n",
            "Epoch :  97 ,  training time :  10.607563734054565\n",
            "Epoch :  98 ,  training time :  10.611055612564087\n",
            "Epoch :  99 ,  training time :  10.65071964263916\n",
            "Epoch :  100 ,  training time :  10.602714538574219\n",
            "---------------------Generated Image-----------------------------------------\n"
          ],
          "name": "stdout"
        },
        {
          "output_type": "display_data",
          "data": {
            "image/png": "[encoded data removed]",
            "text/plain": [
              "<Figure size 288x288 with 16 Axes>"
            ]
          },
          "metadata": {
            "tags": []
          }
        },
        {
          "output_type": "stream",
          "text": [
            "---------------------Original Image-----------------------------------------\n"
          ],
          "name": "stdout"
        },
        {
          "output_type": "display_data",
          "data": {
            "image/png": "[encoded data removed]",
            "text/plain": [
              "<Figure size 288x288 with 16 Axes>"
            ]
          },
          "metadata": {
            "tags": []
          }
        }
      ]
    },
    {
      "cell_type": "code",
      "metadata": {
        "id": "kH8aaGzyDdXj",
        "colab_type": "code",
        "colab": {}
      },
      "source": [
        "from PIL import Image \n",
        "generatedImage = Image.open(\"generated.PNG\")\n",
        "generatedImage = generatedImage.resize((28,28))\n",
        "\n",
        "originalImage = Image.open(\"original.PNG\")\n",
        "originalImage = originalImage.resize((28,28))"
      ],
      "execution_count": 0,
      "outputs": []
    },
    {
      "cell_type": "code",
      "metadata": {
        "id": "o0OJAAtxFLE6",
        "colab_type": "code",
        "colab": {
          "base_uri": "https://localhost:8080/",
          "height": 35
        },
        "outputId": "dd3a5a5e-a678-4400-88db-a78fc6bfdf1e"
      },
      "source": [
        "from skimage.metrics import structural_similarity as ssim\n",
        "ssimValue , diff = ssim(np.asarray(originalImage), np.asarray(generatedImage),multichannel=True, full =True)\n",
        "print(\"SSIMvalue: \",ssimValue)\n"
      ],
      "execution_count": 66,
      "outputs": [
        {
          "output_type": "stream",
          "text": [
            "SSIMvalue:  0.7425119375694649\n"
          ],
          "name": "stdout"
        }
      ]
    }
  ]
}